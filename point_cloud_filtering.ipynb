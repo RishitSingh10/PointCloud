{
 "cells": [
  {
   "cell_type": "markdown",
   "id": "cf0edb15",
   "metadata": {},
   "source": [
    "# 1. Point Cloud Filtering\n",
    "\n",
    "Computed or gathered pcds can sometimes be noisy or contain outliers. To reduce noise filtering techniques are used. Some filters are also used to reduce the point cloud density and thus reduce the computational cost."
   ]
  },
  {
   "cell_type": "markdown",
   "id": "e427316d",
   "metadata": {},
   "source": [
    "### 1.1 Pass Through Filter\n",
    "\n",
    "Applies constraints on the input data which are usually intervals along one or more axes. Points outside the specified range are removed."
   ]
  },
  {
   "cell_type": "code",
   "execution_count": 4,
   "id": "2e4e317a",
   "metadata": {},
   "outputs": [],
   "source": [
    "import open3d as o3d\n",
    "import math\n",
    "import numpy as np\n",
    "import itertools"
   ]
  },
  {
   "cell_type": "code",
   "execution_count": 22,
   "id": "d27e85ad",
   "metadata": {},
   "outputs": [],
   "source": [
    "pcd = o3d.io.read_point_cloud(\"./data/depth_2_pcd.ply\")\n",
    "\n",
    "points = np.asarray(pcd.points)\n",
    "\n",
    "z_min = 0.8\n",
    "z_max = 3.0\n",
    "\n",
    "mask = (points[:,2] >= z_min) & (points[:,2] <= z_max)\n",
    "filtered_points = points[mask]\n",
    "\n",
    "filtered_pcd = o3d.geometry.PointCloud()\n",
    "filtered_pcd.points = o3d.utility.Vector3dVector(filtered_points)\n",
    "\n",
    "# Visualize\n",
    "# o3d.visualization.draw_geometries([filtered_pcd])"
   ]
  },
  {
   "cell_type": "code",
   "execution_count": null,
   "id": "897dc87a",
   "metadata": {},
   "outputs": [],
   "source": [
    "# Another method for cropping/filtering\n",
    "bounds = [[-math.inf, math.inf], [-math.inf, math.inf], [0.8, 3.0]]  # set the bounds\n",
    "bounding_box_points = list(itertools.product(*bounds))  # create limit points\n",
    "bounding_box = o3d.geometry.AxisAlignedBoundingBox.create_from_points(\n",
    "    o3d.utility.Vector3dVector(bounding_box_points))  # create bounding box object\n",
    "\n",
    "# Crop the point cloud using the bounding box:\n",
    "pcd_cropped = pcd.crop(bounding_box)\n",
    "\n",
    "# Display the cropped point cloud:\n",
    "o3d.visualization.draw_geometries([pcd_cropped])"
   ]
  },
  {
   "cell_type": "markdown",
   "id": "307861ce",
   "metadata": {},
   "source": [
    "### 1.2 Down-sampling\n",
    "\n",
    "o3d provides three different approaches to down-sample a point cloud:\n",
    "\n",
    "1. **random_down_sample**: Randomly samples n * `sampling_ratio` points.\n",
    "2. **uniform_down_sample**:  It selects a point every `every_k_points` points\n",
    "3. **voxel_down_sample**: It creates a voxel grid and selects the centroid point per voxel. The size of the voxel is specified by the user. Time consuming."
   ]
  },
  {
   "cell_type": "code",
   "execution_count": 23,
   "id": "0b081af2",
   "metadata": {},
   "outputs": [],
   "source": [
    "# Random down-sampling:\n",
    "random_pcd = pcd.random_down_sample(sampling_ratio=0.005)\n",
    "\n",
    "# Uniform down-sampling:\n",
    "uniform_pcd = pcd.uniform_down_sample(every_k_points=200)\n",
    "\n",
    "# Voxel down-sampling:\n",
    "voxel_pcd = pcd.voxel_down_sample(voxel_size=0.4)\n",
    "\n",
    "# Translating point clouds:\n",
    "points = np.asarray(random_pcd.points)\n",
    "points += [-3, 3, 0]\n",
    "random_pcd.points = o3d.utility.Vector3dVector(points)\n",
    "\n",
    "points = np.asarray(uniform_pcd.points)\n",
    "points += [0, 3, 0]\n",
    "uniform_pcd.points = o3d.utility.Vector3dVector(points)\n",
    "\n",
    "points = np.asarray(voxel_pcd.points)\n",
    "points += [3, 3, 0]\n",
    "voxel_pcd.points = o3d.utility.Vector3dVector(points)\n",
    "\n",
    "# Display:\n",
    "o3d.visualization.draw_geometries([pcd, random_pcd, uniform_pcd, voxel_pcd])"
   ]
  },
  {
   "cell_type": "markdown",
   "id": "10c4e93b",
   "metadata": {},
   "source": [
    "Note that the uniform pcd is uniformly distributed in the 3D space because the input pcd is an organized point cloud"
   ]
  },
  {
   "cell_type": "code",
   "execution_count": 24,
   "id": "dbd2c240",
   "metadata": {},
   "outputs": [],
   "source": [
    "# Shuffling to convert to an unorganized pcd\n",
    "points = np.asarray(pcd.points)\n",
    "np.random.shuffle(points)\n",
    "u_pcd= o3d.geometry.PointCloud()\n",
    "u_pcd.points= o3d.utility.Vector3dVector(points)"
   ]
  },
  {
   "cell_type": "code",
   "execution_count": 25,
   "id": "e4638606",
   "metadata": {},
   "outputs": [],
   "source": [
    "# performing downsampling on unorganized point cloud\n",
    "\n",
    "# Random down-sampling:\n",
    "random_u_pcd = u_pcd.random_down_sample(sampling_ratio=0.005)\n",
    "\n",
    "# Uniform down-sampling:\n",
    "uniform_u_pcd = u_pcd.uniform_down_sample(every_k_points=200)\n",
    "\n",
    "# Voxel down-sampling:\n",
    "voxel_u_pcd = u_pcd.voxel_down_sample(voxel_size=0.4)\n",
    "\n",
    "# Translating point clouds:\n",
    "points = np.asarray(random_u_pcd.points)\n",
    "points += [-3, 3, 0]\n",
    "random_u_pcd.points = o3d.utility.Vector3dVector(points)\n",
    "\n",
    "points = np.asarray(uniform_u_pcd.points)\n",
    "points += [0, 3, 0]\n",
    "uniform_u_pcd.points = o3d.utility.Vector3dVector(points)\n",
    "\n",
    "points = np.asarray(voxel_u_pcd.points)\n",
    "points += [3, 3, 0]\n",
    "voxel_u_pcd.points = o3d.utility.Vector3dVector(points)\n",
    "\n",
    "# Display:\n",
    "o3d.visualization.draw_geometries([u_pcd, random_u_pcd, uniform_u_pcd, voxel_u_pcd])"
   ]
  },
  {
   "cell_type": "markdown",
   "id": "bc2b7af8",
   "metadata": {},
   "source": [
    "You'll now notice uniform downsample and random downsample are very similar. The difference is that uniform downsample is deterministic, while random downsample is not. This means that if you run the same code twice, uniform downsample will always return the same result, while random downsample will return different results.\n",
    "\n",
    "However, voxel downsample returns a similar point cloud since it reorganizes the pointss into a 3D grid."
   ]
  },
  {
   "cell_type": "markdown",
   "id": "9253e99d",
   "metadata": {},
   "source": [
    "### 1.3 Outlier removal filters\n",
    "\n",
    "* **Radius outlier removal**: Filter that removes every point that has less than a given number of neighbours within a given radius. <br><br>\n",
    "* **Statistical outlier removal**: Filter that removes points that are further away from their neighbours. For each point its mean distance from all its neighbours is computed. Then, if the mean distance of the point is outside an interval defined by the global distances mean and std then the point is an outlier"
   ]
  },
  {
   "cell_type": "code",
   "execution_count": 28,
   "id": "960ef87d",
   "metadata": {},
   "outputs": [],
   "source": [
    "# Down sampling to reduce the running time:\n",
    "pcd = pcd.voxel_down_sample(voxel_size=0.02)\n",
    "\n",
    "# Radius outlier removal:\n",
    "pcd_rad, ind_rad = pcd.remove_radius_outlier(nb_points=16, radius=0.05)\n",
    "outlier_rad_pcd = pcd.select_by_index(ind_rad, invert=True)\n",
    "outlier_rad_pcd.paint_uniform_color([1., 0., 1.])\n",
    "\n",
    "# Statistical outlier removal:\n",
    "pcd_stat, ind_stat = pcd.remove_statistical_outlier(nb_neighbors=20,\n",
    "                                                std_ratio=2.0)\n",
    "outlier_stat_pcd = pcd.select_by_index(ind_stat, invert=True)\n",
    "outlier_stat_pcd.paint_uniform_color([0., 0., 1.])\n",
    "\n",
    "# Translate to visualize:\n",
    "points = np.asarray(pcd_stat.points)\n",
    "points += [3, 0, 0]\n",
    "pcd_stat.points = o3d.utility.Vector3dVector(points)\n",
    "\n",
    "points = np.asarray(outlier_stat_pcd.points)\n",
    "points += [3, 0, 0]\n",
    "outlier_stat_pcd.points = o3d.utility.Vector3dVector(points)\n",
    "\n",
    "# Display:\n",
    "o3d.visualization.draw_geometries([pcd_stat, pcd_rad, outlier_stat_pcd, outlier_rad_pcd])"
   ]
  }
 ],
 "metadata": {
  "kernelspec": {
   "display_name": ".venv",
   "language": "python",
   "name": "python3"
  },
  "language_info": {
   "codemirror_mode": {
    "name": "ipython",
    "version": 3
   },
   "file_extension": ".py",
   "mimetype": "text/x-python",
   "name": "python",
   "nbconvert_exporter": "python",
   "pygments_lexer": "ipython3",
   "version": "3.12.10"
  }
 },
 "nbformat": 4,
 "nbformat_minor": 5
}
