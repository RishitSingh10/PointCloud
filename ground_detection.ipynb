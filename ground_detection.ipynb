{
 "cells": [
  {
   "cell_type": "markdown",
   "id": "3c9943fa",
   "metadata": {},
   "source": [
    "# Contents:\n",
    "\n",
    "1. Analyse point clouds, taking **ground detection** as an example\n",
    "2. Introduce **organised point cloud**"
   ]
  },
  {
   "cell_type": "markdown",
   "id": "040c1fd3",
   "metadata": {},
   "source": [
    "## 1. Coordinate System"
   ]
  },
  {
   "cell_type": "code",
   "execution_count": 1,
   "id": "c179f323",
   "metadata": {},
   "outputs": [
    {
     "name": "stdout",
     "output_type": "stream",
     "text": [
      "Jupyter environment detected. Enabling Open3D WebVisualizer.\n",
      "[Open3D INFO] WebRTC GUI backend enabled.\n",
      "[Open3D INFO] WebRTCWindowSystem: HTTP handshake server disabled.\n"
     ]
    }
   ],
   "source": [
    "# imports\n",
    "import numpy as np\n",
    "import open3d as o3d"
   ]
  },
  {
   "cell_type": "code",
   "execution_count": 3,
   "id": "7f6e15ec",
   "metadata": {},
   "outputs": [],
   "source": [
    "# Read point cloud\n",
    "pcd = o3d.io.read_point_cloud(\"./data/depth_2_pcd.ply\")\n",
    "\n",
    "# Create a 3D coordinate system\n",
    "origin = o3d.geometry.TriangleMesh.create_coordinate_frame(size=0.5)\n",
    "\n",
    "# geometries to draw\n",
    "geometries = [pcd, origin]\n",
    "\n",
    "# visualize\n",
    "o3d.visualization.draw_geometries(geometries)"
   ]
  },
  {
   "cell_type": "markdown",
   "id": "6cb7ddbb",
   "metadata": {},
   "source": [
    "The blue, the red and the green arrows represent the Z-axis, the X-axis and the Y-axis respectively"
   ]
  },
  {
   "cell_type": "code",
   "execution_count": 4,
   "id": "4e183705",
   "metadata": {},
   "outputs": [],
   "source": [
    "# Get max and min x,y,z coordinates of the point cloud\n",
    "x_max = max(pcd.points, key=lambda x:x[0])\n",
    "y_max = max(pcd.points, key=lambda x:x[1])\n",
    "z_max = max(pcd.points, key=lambda x:x[2])\n",
    "x_min = min(pcd.points, key=lambda x:x[0])\n",
    "y_min = min(pcd.points, key=lambda x:x[1])\n",
    "z_min = min(pcd.points, key=lambda x:x[2])"
   ]
  },
  {
   "cell_type": "code",
   "execution_count": 8,
   "id": "b516a117",
   "metadata": {},
   "outputs": [
    {
     "name": "stdout",
     "output_type": "stream",
     "text": [
      "[Open3D WARNING] GLFW Error: WGL: Failed to make context current: The requested transformation operation is not supported. \n",
      "[Open3D WARNING] [ViewControl] SetViewPoint() failed because window height and width are not set.\n"
     ]
    }
   ],
   "source": [
    "# Colors\n",
    "RED = [1., 0., 0.]\n",
    "GREEN = [0., 1., 0.]\n",
    "BLUE = [0., 0., 1.]\n",
    "YELLOW = [1., 1., 0.]\n",
    "MAGENTA = [1., 0., 1.]\n",
    "CYAN = [1., 1., 1.]\n",
    "\n",
    "positions = [x_max, y_max, z_max, x_min, y_min, z_min]\n",
    "colors = [RED, GREEN, BLUE, YELLOW, MAGENTA, CYAN]\n",
    "\n",
    "for i in range(len(positions)):\n",
    "    # create a sphere mesh\n",
    "    sphere = o3d.geometry.TriangleMesh.create_sphere(radius=0.05)\n",
    "\n",
    "    # move to the point position\n",
    "    sphere.translate(np.asarray(positions[i]))\n",
    "\n",
    "    # add color\n",
    "    sphere.paint_uniform_color(np.asarray(colors[i]))\n",
    "\n",
    "    # compute normals for vertices or faces\n",
    "    sphere.compute_vertex_normals()\n",
    "\n",
    "    # add to geometry list to display later\n",
    "    geometries.append(sphere)\n",
    "\n",
    "o3d.visualization.draw_geometries(geometries)"
   ]
  },
  {
   "cell_type": "code",
   "execution_count": null,
   "id": "5f722d44",
   "metadata": {},
   "outputs": [],
   "source": []
  }
 ],
 "metadata": {
  "kernelspec": {
   "display_name": ".venv",
   "language": "python",
   "name": "python3"
  },
  "language_info": {
   "codemirror_mode": {
    "name": "ipython",
    "version": 3
   },
   "file_extension": ".py",
   "mimetype": "text/x-python",
   "name": "python",
   "nbconvert_exporter": "python",
   "pygments_lexer": "ipython3",
   "version": "3.12.10"
  }
 },
 "nbformat": 4,
 "nbformat_minor": 5
}
